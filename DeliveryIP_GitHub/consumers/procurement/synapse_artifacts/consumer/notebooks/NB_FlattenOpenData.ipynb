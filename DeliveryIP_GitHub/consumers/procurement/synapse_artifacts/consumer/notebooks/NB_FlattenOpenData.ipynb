{
  "cells": [
    {
      "cell_type": "code",
      "execution_count": 50,
      "metadata": {
        "jupyter": {
          "outputs_hidden": false,
          "source_hidden": false
        },
        "nteract": {
          "transient": {
            "deleting": false
          }
        }
      },
      "outputs": [],
      "source": [
        "import pyspark.sql.functions as f\n",
        "import json"
      ]
    },
    {
      "cell_type": "markdown",
      "metadata": {
        "nteract": {
          "transient": {
            "deleting": false
          }
        }
      },
      "source": [
        "## Set Parameters"
      ]
    },
    {
      "cell_type": "code",
      "execution_count": 55,
      "metadata": {
        "tags": [
          "parameters"
        ]
      },
      "outputs": [],
      "source": [
        "ownership_flag = 1\n",
        "contracting_flag = 1\n",
        "sanctions_flag = 1\n",
        "\n",
        "raw_folderpath = \"\"\n",
        "country_names = \"\"\n",
        "country_name_alternatives = \"\"\n"
      ]
    },
    {
      "cell_type": "code",
      "execution_count": null,
      "metadata": {
        "jupyter": {
          "outputs_hidden": false,
          "source_hidden": false
        },
        "nteract": {
          "transient": {
            "deleting": false
          }
        }
      },
      "outputs": [],
      "source": [
        "#Create country list\n",
        "if country_names:\n",
        "    country_names = country_names.split(',')\n",
        "\n",
        "if country_name_alternatives:\n",
        "    country_name_alternatives = country_name_alternatives.split(',')"
      ]
    },
    {
      "cell_type": "code",
      "execution_count": 40,
      "metadata": {
        "jupyter": {
          "outputs_hidden": false,
          "source_hidden": false
        },
        "nteract": {
          "transient": {
            "deleting": false
          }
        }
      },
      "outputs": [],
      "source": [
        "## Test Parameters\n",
        "# ownership_flag = 1\n",
        "# contracting_flag = 1\n",
        "# sanctions_flag = 1\n",
        "\n",
        "# Contracting\n",
        "# raw_folderpath = 'BeneficialOwnership/OpenData/Contracting/*/AllTime/v1/full/*/*/*/*'\n",
        "\n",
        "# Ownership\n",
        "# raw_folderpath = 'BeneficialOwnership/OpenData/Ownership/AllData/v1/full/*/*/*/*'\n",
        "\n",
        "# Sanctions\n",
        "# raw_folderpath = 'BeneficialOwnership/OpenData/Sanctions/AllData/v1/full/*/*/*/*'\n",
        "\n"
      ]
    },
    {
      "cell_type": "markdown",
      "metadata": {
        "nteract": {
          "transient": {
            "deleting": false
          }
        }
      },
      "source": [
        "## Set Storage Config"
      ]
    },
    {
      "cell_type": "code",
      "execution_count": 6,
      "metadata": {
        "jupyter": {
          "outputs_hidden": false,
          "source_hidden": false
        },
        "nteract": {
          "transient": {
            "deleting": false
          }
        }
      },
      "outputs": [],
      "source": [
        "#Storage Config\n",
        "storageLinkedService = 'LS_DataLake'\n",
        "storageAccount_ls = mssparkutils.credentials.getPropertiesAll(storageLinkedService)\n",
        "storageAccountName = json.loads(storageAccount_ls)['Endpoint'].split('.')[0].replace('https://','')\n",
        "\n",
        "spark.conf.set(f\"spark.storage.synapse.{storageAccountName}.linkedServiceName\",\"LS_DataLake\")\n",
        "spark.conf.set(f\"fs.azure.account.oath.provider.type.{storageAccountName}\",\"com.microsoft.azure.synapse.tokenlibrary.LinkedServiceBasedTokenProvider\")\n",
        "spark.conf.set(\"spark.sql.adaptive.enabled\",True)"
      ]
    },
    {
      "cell_type": "markdown",
      "metadata": {
        "nteract": {
          "transient": {
            "deleting": false
          }
        }
      },
      "source": [
        "## Define Flatten & Explode Function"
      ]
    },
    {
      "cell_type": "code",
      "execution_count": 7,
      "metadata": {
        "jupyter": {
          "outputs_hidden": false,
          "source_hidden": false
        },
        "nteract": {
          "transient": {
            "deleting": false
          }
        }
      },
      "outputs": [],
      "source": [
        "def flatten_and_explode(df,limit_cols=None):\n",
        "\n",
        "    \"\"\"\n",
        "    Flattens any struct or array columns in a PySpark DataFrame recursively.\n",
        "    Inputs: df = dataframe to be flattened, limit_cols = specific columns to be processed (optional, speeds up the process)\n",
        "    \"\"\"\n",
        "    array_cols = [c[0] for c in df.dtypes if c[1][:5] == 'array']\n",
        "    struct_cols = [c[0] for c in df.dtypes if c[1][:6] == 'struct']\n",
        "    other_cols = [c[0] for c in df.dtypes if ((c[1][:5] != 'array') & (c[1][:6] != 'struct'))]\n",
        "\n",
        "    if limit_cols == None:\n",
        "        limit_cols_updt = [c[0] for c in df.dtypes]\n",
        "    else:\n",
        "        limit_cols_updt = limit_cols\n",
        "\n",
        "    while 1==1:\n",
        "\n",
        "        if len(array_cols) == 0 and len(struct_cols) == 0:\n",
        "            break\n",
        "\n",
        "        # Flatten struct columns\n",
        "        for c in struct_cols:\n",
        "            df = df.select(other_cols+array_cols + struct_cols + [f.col(c + '.' + x).alias(c + '_' + x) for x in df.select(c + '.*').columns])\n",
        "            df = df.drop(c)\n",
        "\n",
        "            struct_cols = [c[0] for c in df.dtypes if ((c[1][:6] == 'struct') & (c[0] in limit_cols_updt))]\n",
        "            array_cols = [c[0] for c in df.dtypes if ((c[1][:5] == 'array') & (c[0] in limit_cols_updt))]\n",
        "            other_cols = [c[0] for c in df.dtypes if ((c[1][:5] != 'array') & (c[1][:6] != 'struct') & (c[0] in limit_cols_updt))]\n",
        "\n",
        "            print('processed struct col '+str(c))\n",
        "\n",
        "        # Explode array columns\n",
        "        for c in array_cols:\n",
        "            df_tonotexplode = df.where((f.col(c).isNull()) | (f.size(f.col(c)) ==0)).drop(c)\n",
        "            df_toexplode = df.where((f.col(c).isNotNull()) & (f.size(f.col(c)) > 0)).withColumn(c, f.explode(f.col(c)))\n",
        "            df = df_toexplode.unionByName(df_tonotexplode, allowMissingColumns=True)\n",
        "\n",
        "            print('processed array col '+str(c))\n",
        "\n",
        "        # Update columns to be processed\n",
        "        if limit_cols == None:\n",
        "            limit_cols_updt = [c[0] for c in df.dtypes]\n",
        "        else:\n",
        "            limit_cols_updt = limit_cols\n",
        "\n",
        "        # Update column lists for next loop\n",
        "        array_cols = [c[0] for c in df.dtypes if ((c[1][:5] == 'array') & (c[0] in limit_cols_updt))]\n",
        "        struct_cols = [c[0] for c in df.dtypes if ((c[1][:6] == 'struct') & (c[0] in limit_cols_updt))]\n",
        "        other_cols = [c[0] for c in df.dtypes if ((c[1][:5] != 'array') & (c[1][:6] != 'struct') & (c[0] in limit_cols_updt))]\n",
        "\n",
        "    return df"
      ]
    },
    {
      "cell_type": "code",
      "execution_count": 8,
      "metadata": {
        "jupyter": {
          "outputs_hidden": false,
          "source_hidden": false
        },
        "nteract": {
          "transient": {
            "deleting": false
          }
        }
      },
      "outputs": [],
      "source": [
        "def df_select_columns(source_df, selected_columns):\n",
        "    existing_columns = source_df.columns\n",
        "    columns_to_select = []\n",
        "    \n",
        "    for column in selected_columns:\n",
        "        if column in existing_columns:\n",
        "            columns_to_select.append(column)\n",
        "        else:\n",
        "            columns_to_select.append(f.lit(\"\").alias(column))\n",
        "    \n",
        "    df = source_df.select(columns_to_select)\n",
        "    renamed_columns = [f.col(column_name).alias(column_name.replace(\"_\", \"\")) for column_name in df.columns]\n",
        "    selected_df = df.select(*renamed_columns)\n",
        "\n",
        "    return selected_df"
      ]
    },
    {
      "cell_type": "markdown",
      "metadata": {
        "nteract": {
          "transient": {
            "deleting": false
          }
        }
      },
      "source": [
        "## Read, Flatten, Write Data"
      ]
    },
    {
      "cell_type": "code",
      "execution_count": 78,
      "metadata": {
        "jupyter": {
          "outputs_hidden": false,
          "source_hidden": false
        },
        "nteract": {
          "transient": {
            "deleting": false
          }
        }
      },
      "outputs": [],
      "source": [
        "#OpenContracting\n",
        "if contracting_flag==1:\n",
        "    #Read\n",
        "    if country_names:\n",
        "        try:\n",
        "            df = spark.read.json('abfss://raw@storageAccountName.dfs.core.windows.net/'+raw_folderpath+'*').withColumn('filename',f.input_file_name()).where(f.col('filename').rlike(\"|\".join(country_names)))\n",
        "        except:\n",
        "            df = spark.read.json('abfss://raw@storageAccountName.dfs.core.windows.net/'+raw_folderpath+'*').withColumn('filename',f.input_file_name()).where(f.col('filename').rlike(\"|\".join(country_names)))\n",
        "    else:\n",
        "        try:\n",
        "            df = spark.read.json('abfss://raw@storageAccountName.dfs.core.windows.net/'+raw_folderpath+'*').withColumn('filename',f.input_file_name())\n",
        "        except:\n",
        "            df = spark.read.json('abfss://raw@storageAccountName.dfs.core.windows.net/'+raw_folderpath+'*').withColumn('filename',f.input_file_name())\n",
        "            \n",
        "    #Select, Flatten, and Explode\n",
        "    df = df_select_columns(df,['date','parties','tender','awards','filename'])\n",
        "    limit_cols = ['date','parties','parties_address','parties_address_streetAddress','parties_address_postalCode','parties_address_countryName','parties_id','parties_name','parties_contactPoint','parties_contactPoint_email','parties_contactPoint_telephone','parties_contactPoint_url','parties_roles','tender','tender_id','tender_title','awards','awards_items','awards_items_id','awards_items_description','tender_lots','tender_lots_id','tender_lots_description','filename']\n",
        "    flat_df = flatten_and_explode(df,limit_cols)\n",
        "\n",
        "    #Write NonNull Records\n",
        "    select_cols = ['date','parties_address_streetAddress','parties_address_postalCode','parties_address_countryName','parties_id','parties_name','parties_contactPoint_email','parties_contactPoint_telephone','parties_contactPoint_url','parties_roles','tender_id','tender_title','awards_items_id','awards_items_description','tender_lots_id','tender_lots_description','filename']\n",
        "    df_select = df_select_columns(flat_df,select_cols)\n",
        "\n",
        "    df_select_notnull = df_select.where(f.col('partiesid').isNotNull() & f.col('date').isNotNull() & f.col('partiesroles').isNotNull() & f.col('tenderid').isNotNull())\n",
        "    df_select_notnull.write.mode('overwrite').parquet('abfss://staging@storageAccountName.dfs.core.windows.net/BeneficialOwnership/OpenData/Contracting/Flattened')\n",
        "\n",
        "    #Write Null Records\n",
        "    df_select_null = df_select.where(f.col('partiesid').isNull() | f.col('date').isNull() | f.col('partiesroles').isNull() | f.col('tenderid').isNull())\n",
        "    df_select_null.write.mode('overwrite').parquet('abfss://staging@storageAccountName.dfs.core.windows.net/BeneficialOwnership/OpenData/Contracting/ContractingDF_FailedPreProcessing_Staging')"
      ]
    },
    {
      "cell_type": "code",
      "execution_count": null,
      "metadata": {
        "collapsed": false,
        "jupyter": {
          "outputs_hidden": false,
          "source_hidden": false
        },
        "nteract": {
          "transient": {
            "deleting": false
          }
        }
      },
      "outputs": [],
      "source": [
        "#OpenOwnership\n",
        "if ownership_flag==1:\n",
        "    #Read\n",
        "    try:\n",
        "        df = spark.read.json('abfss://raw@storageAccountName.dfs.core.windows.net/'+raw_folderpath+'*')\n",
        "    except:\n",
        "        df = spark.read.json('abfss://raw@storageAccountName.dfs.core.windows.net/'+raw_folderpath+'*')\n",
        "    \n",
        "    #Select, Flatten, and Explode\n",
        "\n",
        "    #Entity\n",
        "    df_entity = df_select_columns(df.where(f.col('statementType')=='entityStatement'),['statementID','statementType','name','addresses','identifiers'])\n",
        "    limit_cols = ['statementID','statementType','name','identifiers','addresses','addresses_address','addresses_country','addresses_type','identifiers_id']\n",
        "    entity_flat = flatten_and_explode(df_entity,limit_cols)\n",
        "\n",
        "    #Limit country\n",
        "    if country_names:\n",
        "        country_name_alternatives.append(\",\".join(country_names))\n",
        "        entity_flat = entity_flat.where(f.col('addresses_country').isin(country_name_alternatives))\n",
        "\n",
        "    #Write NonNull Records\n",
        "    select_cols = ['statementID','statementType','name','addresses_address','addresses_country','addresses_type','identifiers_id']\n",
        "    df_select_entity = df_select_columns(entity_flat,select_cols)\n",
        "    df_select_entity_notnull = df_select_entity.where(f.col('identifiersid').isNotNull() & f.col('addressesaddress').isNotNull())\n",
        "    df_select_entity_notnull.write.mode('overwrite').parquet('abfss://staging@storageAccountName.dfs.core.windows.net/BeneficialOwnership/OpenData/Ownership/Entity/Flattened')\n",
        "\n",
        "    #Write Null Records\n",
        "    df_select_entity_null = df_select_entity.where(f.col('identifiersid').isNull() | f.col('addressesaddress').isNull())\n",
        "    df_select_entity_null.write.mode('overwrite').parquet('abfss://staging@storageAccountName.dfs.core.windows.net/BeneficialOwnership/OpenData/Ownership/Entity/OwnershipDF_FailedPreProcessing')\n",
        "\n",
        "    #Person\n",
        "    df_person = df_select_columns(df.where(f.col('statementType')==f.lit('personStatement')),['statementID','statementType','identifiers','personType','addresses','names','nationalities'])\n",
        "    limit_cols = ['statementID','statementType','names','identifiers','identifiers_id','addresses','addresses_address','nationalities','personType','names_fullName','nationalities_name','nationalities_code']\n",
        "    person_flat = flatten_and_explode(df_person,limit_cols)\n",
        "\n",
        "    #Limit country\n",
        "    if country_names:\n",
        "        country_name_alternatives.append(\",\".join(country_names))\n",
        "        person_flat = person_flat.where(f.col('addresses_address').rlike(\"|\".join(country_name_alternatives)))\n",
        "    \n",
        "    #Write NonNull Records\n",
        "    select_cols = ['statementID','statementType','identifiers_id','personType','addresses_address','names_fullName','nationalities_name','nationalities_code']\n",
        "    df_select_person = df_select_columns(person_flat,select_cols)\n",
        "    df_select_person_notnull = df_select_person.where(f.col('identifiersid').isNotNull() & f.col('namesfullName').isNotNull())\n",
        "    df_select_person_notnull.write.mode('overwrite').parquet('abfss://staging@storageAccountName.dfs.core.windows.net/BeneficialOwnership/OpenData/Ownership/Person/Flattened')\n",
        "    \n",
        "    #Write Null Records\n",
        "    df_select_person_null = df_select_person.where(f.col('identifiersid').isNull() | f.col('namesfullName').isNull())\n",
        "    df_select_person_null.write.mode('overwrite').parquet('abfss://staging@storageAccountName.dfs.core.windows.net/BeneficialOwnership/OpenData/Ownership/Person/OwnershipDF_FailedPreProcessing')\n"
      ]
    },
    {
      "cell_type": "code",
      "execution_count": null,
      "metadata": {
        "jupyter": {
          "outputs_hidden": false,
          "source_hidden": false
        },
        "nteract": {
          "transient": {
            "deleting": false
          }
        }
      },
      "outputs": [],
      "source": [
        "#OpenSanctions\n",
        "if sanctions_flag==1:\n",
        "    #Read\n",
        "    df = spark.read.json('abfss://raw@storageAccountName.dfs.core.windows.net/'+raw_folderpath+'*')\n",
        "\n",
        "    # Flatten according to schema (faster than all at once)\n",
        "\n",
        "    # Company and Person\n",
        "    df_company_person = df_select_columns(df.where((f.col('schema') == 'Company') | (f.col('schema') == 'Person')),['caption','id','referents','schema','properties'])\n",
        "    limit_cols = ['caption','id','referents','schema','properties','properties_name','properties_addressEntity']\n",
        "    company_person_flat = flatten_and_explode(df_company_person,limit_cols).select('caption','id','referents','schema','properties_name','properties_addressEntity')\n",
        "\n",
        "    # Address\n",
        "    df_address = df_select_columns(df.where(f.col('schema')=='Address'),['caption','id','referents','schema','properties'])\n",
        "    limit_cols = ['caption','id','referents','schema','properties','properties_full']\n",
        "    address_flat = flatten_and_explode(df_address,limit_cols).select('caption','id','referents','schema','properties_full')\n",
        "\n",
        "    if country_names:\n",
        "        country_name_alternatives.append(\",\".join(country_names))\n",
        "        address_flat = address_flat.where(f.col('properties_full').rlike(\"|\".join(country_name_alternatives)))\n",
        "\n",
        "    # Sanction\n",
        "    df_sanction = df_select_columns(df.where(f.col('schema')=='Sanction'),['caption','id','referents','schema','properties'])\n",
        "    limit_cols = ['caption','id','referents','schema','properties','properties_entity','properties_startDate','properties_endDate','properties_reason','properties_authority']\n",
        "    sanction_flat = flatten_and_explode(df_sanction,limit_cols).select('caption','id','referents','schema','properties_entity','properties_startDate','properties_endDate','properties_reason','properties_authority')\n",
        "\n",
        "\n",
        "    # Join Sanction to Person/Company to get addressEntity\n",
        "    # join on id\n",
        "    sanction_id = sanction_flat.join(company_person_flat,sanction_flat.properties_entity==company_person_flat.id, how='inner').select(sanction_flat.caption,sanction_flat.id,'properties_name','properties_entity','properties_startDate','properties_endDate','properties_reason','properties_authority','properties_addressEntity')\n",
        "\n",
        "    # join on referents\n",
        "    sanction_referents = sanction_flat.join(company_person_flat,sanction_flat.properties_entity==company_person_flat.referents, how='inner').select(sanction_flat.caption,sanction_flat.id,'properties_name','properties_entity','properties_startDate','properties_endDate','properties_reason','properties_authority','properties_addressEntity')\n",
        "\n",
        "    # append\n",
        "    sanction_append = sanction_id.unionByName(sanction_referents, allowMissingColumns=True).distinct()\n",
        "\n",
        "    # Join to Address to get full Address\n",
        "    # join on addressEntity\n",
        "    sanction_join = sanction_append.join(address_flat,sanction_append.properties_addressEntity==address_flat.id,how='left').select(sanction_append.id,sanction_append.caption,'properties_name','properties_entity','properties_startDate','properties_endDate','properties_reason','properties_authority','properties_full').distinct()\n",
        "\n",
        "\n",
        "    #Write NonNull Records\n",
        "    renamed_columns = [f.col(column_name).alias(column_name.replace(\"_\", \"\")) for column_name in sanction_join.columns]\n",
        "    df_select_sanctions_notnull = sanction_join.where(f.col('id').isNotNull() & f.col('caption').isNotNull()).select(*renamed_columns)\n",
        "    df_select_sanctions_notnull.write.mode('overwrite').parquet('abfss://staging@storageAccountName.dfs.core.windows.net/BeneficialOwnership/OpenData/Sanctions/Flattened')\n",
        "    \n",
        "    #Write Null Records\n",
        "    df_select_sanctions_null = sanction_join.where(f.col('id').isNull() | f.col('caption').isNull()).select(*renamed_columns)\n",
        "    df_select_sanctions_null.write.mode('overwrite').parquet('abfss://staging@storageAccountName.dfs.core.windows.net/BeneficialOwnership/OpenData/Sanctions/SanctionsDF_FailedPreProcessing')\n"
      ]
    }
  ],
  "metadata": {
    "description": null,
    "kernelspec": {
      "display_name": "Synapse PySpark",
      "name": "synapse_pyspark"
    },
    "language_info": {
      "name": "python"
    },
    "save_output": true
  },
  "nbformat": 4,
  "nbformat_minor": 2
}
